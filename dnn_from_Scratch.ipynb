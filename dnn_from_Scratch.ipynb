{
  "nbformat": 4,
  "nbformat_minor": 0,
  "metadata": {
    "colab": {
      "name": "dnn_from_Scratch.ipynb",
      "provenance": [],
      "authorship_tag": "ABX9TyPtCoUcEiX1r7V4hRbAgJmV",
      "include_colab_link": true
    },
    "kernelspec": {
      "name": "python3",
      "display_name": "Python 3"
    }
  },
  "cells": [
    {
      "cell_type": "markdown",
      "metadata": {
        "id": "view-in-github",
        "colab_type": "text"
      },
      "source": [
        "<a href=\"https://colab.research.google.com/github/hamzafarooq/algos/blob/code/dnn_from_Scratch.ipynb\" target=\"_parent\"><img src=\"https://colab.research.google.com/assets/colab-badge.svg\" alt=\"Open In Colab\"/></a>"
      ]
    },
    {
      "cell_type": "code",
      "metadata": {
        "id": "_3rbq3Nsx5hv"
      },
      "source": [
        "# Package imports \n",
        "import numpy as np \n",
        "import matplotlib.pyplot as plt \n",
        "# here planar_utils.py can be found on its github repo \n",
        "import sklearn\n",
        "from sklearn import datasets\n",
        "\n"
      ],
      "execution_count": null,
      "outputs": []
    },
    {
      "cell_type": "code",
      "metadata": {
        "id": "IDNAU6uC81P_"
      },
      "source": [
        "\n",
        "def plot_decision_boundary(model, X, y):\n",
        "    # Set min and max values and give it some padding\n",
        "    x_min, x_max = X[0, :].min() - 1, X[0, :].max() + 1\n",
        "    y_min, y_max = X[1, :].min() - 1, X[1, :].max() + 1\n",
        "    h = 0.01\n",
        "    # Generate a grid of points with distance h between them\n",
        "    xx, yy = np.meshgrid(np.arange(x_min, x_max, h), np.arange(y_min, y_max, h))\n",
        "    # Predict the function value for the whole grid\n",
        "    Z = model(np.c_[xx.ravel(), yy.ravel()])\n",
        "    Z = Z.reshape(xx.shape)\n",
        "    # Plot the contour and training examples\n",
        "    plt.contourf(xx, yy, Z, cmap=plt.cm.Spectral)\n",
        "    plt.ylabel('x2')\n",
        "    plt.xlabel('x1')\n",
        "    plt.scatter(X[0, :], X[1, :], c=y, cmap=plt.cm.Spectral)\n",
        "    \n",
        "\n",
        "def sigmoid(x):\n",
        "    \"\"\"\n",
        "    Compute the sigmoid of x\n",
        "    Arguments:\n",
        "    x -- A scalar or numpy array of any size.\n",
        "    Return:\n",
        "    s -- sigmoid(x)\n",
        "    \"\"\"\n",
        "    s = 1/(1+np.exp(-x))\n",
        "    return s\n",
        "\n",
        "def load_planar_dataset():\n",
        "    np.random.seed(1)\n",
        "    m = 400 # number of examples\n",
        "    N = int(m/2) # number of points per class\n",
        "    D = 2 # dimensionality\n",
        "    X = np.zeros((m,D)) # data matrix where each row is a single example\n",
        "    Y = np.zeros((m,1), dtype='uint8') # labels vector (0 for red, 1 for blue)\n",
        "    a = 4 # maximum ray of the flower\n",
        "\n",
        "    for j in range(2):\n",
        "        ix = range(N*j,N*(j+1))\n",
        "        t = np.linspace(j*3.12,(j+1)*3.12,N) + np.random.randn(N)*0.2 # theta\n",
        "        r = a*np.sin(4*t) + np.random.randn(N)*0.2 # radius\n",
        "        X[ix] = np.c_[r*np.sin(t), r*np.cos(t)]\n",
        "        Y[ix] = j\n",
        "        \n",
        "    X = X.T\n",
        "    Y = Y.T\n",
        "\n",
        "    return X, Y\n",
        "\n",
        "def load_extra_datasets():  \n",
        "    N = 200\n",
        "    noisy_circles = sklearn.datasets.make_circles(n_samples=N, factor=.5, noise=.3)\n",
        "    noisy_moons = sklearn.datasets.make_moons(n_samples=N, noise=.2)\n",
        "    blobs = sklearn.datasets.make_blobs(n_samples=N, random_state=5, n_features=2, centers=6)\n",
        "    gaussian_quantiles = sklearn.datasets.make_gaussian_quantiles(mean=None, cov=0.5, n_samples=N, n_features=2, n_classes=2, shuffle=True, random_state=None)\n",
        "    no_structure = np.random.rand(N, 2), np.random.rand(N, 2)\n",
        "    \n",
        "    return noisy_circles, noisy_moons, blobs, gaussian_quantiles, no_structure"
      ],
      "execution_count": null,
      "outputs": []
    },
    {
      "cell_type": "code",
      "metadata": {
        "id": "qHVzHq7-0eYo",
        "colab": {
          "base_uri": "https://localhost:8080/",
          "height": 35
        },
        "outputId": "170d4289-6d9e-4785-f3dc-82211fe01b95"
      },
      "source": [
        "X.shape"
      ],
      "execution_count": null,
      "outputs": [
        {
          "output_type": "execute_result",
          "data": {
            "text/plain": [
              "(569, 30)"
            ]
          },
          "metadata": {
            "tags": []
          },
          "execution_count": 41
        }
      ]
    },
    {
      "cell_type": "code",
      "metadata": {
        "id": "zj40TBkeyEpu"
      },
      "source": [
        "bc = datasets.load_breast_cancer()\n",
        "X,Y = load_planar_dataset()"
      ],
      "execution_count": null,
      "outputs": []
    },
    {
      "cell_type": "code",
      "metadata": {
        "id": "9jByiDkm9Wu0",
        "colab": {
          "base_uri": "https://localhost:8080/",
          "height": 35
        },
        "outputId": "2d923374-f3b8-4d86-88ea-dd82b21a78b5"
      },
      "source": [
        "Y.shape[1]"
      ],
      "execution_count": null,
      "outputs": [
        {
          "output_type": "execute_result",
          "data": {
            "text/plain": [
              "400"
            ]
          },
          "metadata": {
            "tags": []
          },
          "execution_count": 59
        }
      ]
    },
    {
      "cell_type": "code",
      "metadata": {
        "id": "SgsKEGYwz3kA",
        "colab": {
          "base_uri": "https://localhost:8080/",
          "height": 89
        },
        "outputId": "4189e149-8dac-4ea9-fa24-5c9d6ddd05b3"
      },
      "source": [
        "#Reshape mmatrix from a 2x3 array  to a 3x2 array\n",
        "mmatrix= np.array([[1,2,3],[4,5,6]])\n",
        "print(mmatrix)\n",
        "rematrix = mmatrix.reshape(3,2)\n",
        "print(rematrix.shape)\n",
        "output:(3, 2)\n",
        "#flatten mmatrix to 1-d array\n",
        "flmatrix = mmatrix.flatten()\n",
        "print(flmatrix)\n"
      ],
      "execution_count": null,
      "outputs": [
        {
          "output_type": "stream",
          "text": [
            "[[1 2 3]\n",
            " [4 5 6]]\n",
            "(3, 2)\n",
            "[1 2 3 4 5 6]\n"
          ],
          "name": "stdout"
        }
      ]
    },
    {
      "cell_type": "code",
      "metadata": {
        "id": "PAbKVuKayO3o",
        "colab": {
          "base_uri": "https://localhost:8080/",
          "height": 125
        },
        "outputId": "8c13ee0a-4b6f-4b9b-f5aa-0717a6017a88"
      },
      "source": [
        "import math\n",
        "def relu(X):\n",
        "   return np.maximum(0,X)\n",
        "\n",
        "def sigmoid(X):\n",
        "   return 1/(1+np.exp(-X))\n",
        "\n",
        "#softmax function\n",
        "def softmax(X):\n",
        "    expo = np.exp(X)\n",
        "    expo_sum = np.sum(np.exp(X))\n",
        "    return expo/expo_sum\n",
        "#Example with mmatrix defined above\n",
        "print (softmax(mmatrix))\n",
        "print (sigmoid(mmatrix))\n",
        "print (relu(mmatrix))\n"
      ],
      "execution_count": null,
      "outputs": [
        {
          "output_type": "stream",
          "text": [
            "[[0.00426978 0.01160646 0.03154963]\n",
            " [0.08576079 0.23312201 0.63369132]]\n",
            "[[0.73105858 0.88079708 0.95257413]\n",
            " [0.98201379 0.99330715 0.99752738]]\n",
            "[[1 2 3]\n",
            " [4 5 6]]\n"
          ],
          "name": "stdout"
        }
      ]
    },
    {
      "cell_type": "code",
      "metadata": {
        "id": "Fpg28_r5ybsk"
      },
      "source": [
        "W1 = np.random.randn(4, X.shape[0]) * 0.01\n",
        "b1 = np.zeros(shape =(4, 1)) \n",
        "  \n",
        "W2 = np.random.randn(Y.shape[0], 4) * 0.01\n",
        "b2 = np.zeros(shape =(Y.shape[0], 1)) \n"
      ],
      "execution_count": null,
      "outputs": []
    },
    {
      "cell_type": "code",
      "metadata": {
        "id": "t1-NwlE24BBF",
        "colab": {
          "base_uri": "https://localhost:8080/",
          "height": 35
        },
        "outputId": "1465f5b0-ce32-4a41-9c5e-f8b6c0ba2691"
      },
      "source": [
        "W2"
      ],
      "execution_count": null,
      "outputs": [
        {
          "output_type": "execute_result",
          "data": {
            "text/plain": [
              "array([[ 0.00355717,  0.00849587, -0.00122154, -0.00680852]])"
            ]
          },
          "metadata": {
            "tags": []
          },
          "execution_count": 63
        }
      ]
    },
    {
      "cell_type": "code",
      "metadata": {
        "id": "DdDQBTZIyeaE"
      },
      "source": [
        "def forward_prop(X, W1, W2, b1, b2): \n",
        "  \n",
        "    Z1 = np.dot(W1, X) + b1 \n",
        "    A1 = np.tanh(Z1) \n",
        "    Z2 = np.dot(W2, A1) + b2 \n",
        "    A2 = sigmoid(Z2) \n",
        "      \n",
        "    # here the cache is the data of previous iteration \n",
        "    # This will be used for backpropagation \n",
        "    cache = {\"Z1\": Z1, \n",
        "             \"A1\": A1, \n",
        "             \"Z2\": Z2, \n",
        "             \"A2\": A2} \n",
        "      \n",
        "    return A2, cache "
      ],
      "execution_count": null,
      "outputs": []
    },
    {
      "cell_type": "code",
      "metadata": {
        "id": "q-ya6u_Fyg3y"
      },
      "source": [
        "# Here Y is actual output \n",
        "def compute_cost(A2, Y): \n",
        "    m = Y.shape[1]\n",
        "    # implementing the above formula \n",
        "    cost_sum = np.multiply(np.log(A2), Y) + np.multiply((1 - Y), np.log(1 - A2)) \n",
        "    cost = - np.sum(cost_sum) / m \n",
        "      \n",
        "    # Squeezing to avoid unnecessary dimensions \n",
        "    cost = np.squeeze(cost) \n",
        "    return cost "
      ],
      "execution_count": null,
      "outputs": []
    },
    {
      "cell_type": "code",
      "metadata": {
        "id": "7GiGWT1Qykth"
      },
      "source": [
        "def back_propagate(W1, b1, W2, b2, cache): \n",
        "    m = X.shape[1]\n",
        "    # Retrieve also A1 and A2 from dictionary \"cache\" \n",
        "    A1 = cache['A1'] \n",
        "    A2 = cache['A2'] \n",
        "    learning_rate = 0.001\n",
        "    # Backward propagation: calculate dW1, db1, dW2, db2.  \n",
        "    dZ2 = A2 - Y \n",
        "    dW2 = (1 / m) * np.dot(dZ2, A1.T) \n",
        "    db2 = (1 / m) * np.sum(dZ2, axis = 1, keepdims = True) \n",
        "  \n",
        "    dZ1 = np.multiply(np.dot(W2.T, dZ2), 1 - np.power(A1, 2)) \n",
        "    dW1 = (1 / m) * np.dot(dZ1, X.T) \n",
        "    db1 = (1 / m) * np.sum(dZ1, axis = 1, keepdims = True) \n",
        "      \n",
        "    # Updating the parameters according to algorithm \n",
        "    W1 = W1 - learning_rate * dW1 \n",
        "    b1 = b1 - learning_rate * db1 \n",
        "    W2 = W2 - learning_rate * dW2 \n",
        "    b2 = b2 - learning_rate * db2 \n",
        "  \n",
        "    return W1, W2, b1, b2 "
      ],
      "execution_count": null,
      "outputs": []
    },
    {
      "cell_type": "code",
      "metadata": {
        "id": "XRUv-AFkymuC",
        "colab": {
          "base_uri": "https://localhost:8080/",
          "height": 35
        },
        "outputId": "f33abae8-4382-4fcd-cd6a-8c823e54a70a"
      },
      "source": [
        "for i in range(0, 1000): \n",
        "    \n",
        "        # Forward propagation. Inputs: \"X, parameters\". return: \"A2, cache\". \n",
        "        A2, cache = forward_prop(X, W1, W2, b1, b2) \n",
        "          \n",
        "        # Cost function. Inputs: \"A2, Y\". Outputs: \"cost\". \n",
        "        cost = compute_cost(A2, Y) \n",
        "        \n",
        "        # Backpropagation. Inputs: \"parameters, cache, X, Y\". Outputs: \"grads\". \n",
        "        W1, W2, b1, b2 = back_propagate(W1, b1, W2, b2, cache) \n",
        "          \n",
        "        # Print the cost every 1000 iterations \n",
        "        if cost and i % 1000 == 0: \n",
        "            print (\"Cost after iteration % i: % f\" % (i, cost))"
      ],
      "execution_count": null,
      "outputs": [
        {
          "output_type": "stream",
          "text": [
            "Cost after iteration  0:  0.681660\n"
          ],
          "name": "stdout"
        }
      ]
    },
    {
      "cell_type": "code",
      "metadata": {
        "id": "V1nyyjyLywph",
        "colab": {
          "base_uri": "https://localhost:8080/",
          "height": 251
        },
        "outputId": "54ca845e-58b7-44c7-df05-522caa22b28d"
      },
      "source": [
        "A2"
      ],
      "execution_count": null,
      "outputs": [
        {
          "output_type": "execute_result",
          "data": {
            "text/plain": [
              "array([[0.49594505, 0.49596406, 0.49597052, ..., 0.499836  , 0.49964744,\n",
              "        0.49989463],\n",
              "       [0.4942951 , 0.4942338 , 0.49420019, ..., 0.499843  , 0.49961718,\n",
              "        0.49989695],\n",
              "       [0.49769432, 0.4976961 , 0.49769496, ..., 0.49987596, 0.49971906,\n",
              "        0.49991504],\n",
              "       ...,\n",
              "       [0.50508838, 0.50517481, 0.50522302, ..., 0.50010792, 0.50029709,\n",
              "        0.50007475],\n",
              "       [0.50187112, 0.50182296, 0.50179565, ..., 0.50014943, 0.5002921 ,\n",
              "        0.50009368],\n",
              "       [0.49815161, 0.49821032, 0.49823912, ..., 0.49983373, 0.49966305,\n",
              "        0.49989042]])"
            ]
          },
          "metadata": {
            "tags": []
          },
          "execution_count": 40
        }
      ]
    },
    {
      "cell_type": "code",
      "metadata": {
        "id": "Q9x5o7Al7XOv"
      },
      "source": [
        ""
      ],
      "execution_count": null,
      "outputs": []
    }
  ]
}